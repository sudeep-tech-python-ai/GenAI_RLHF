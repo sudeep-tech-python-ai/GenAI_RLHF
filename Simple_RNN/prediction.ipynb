{
 "cells": [
  {
   "cell_type": "code",
   "execution_count": 14,
   "metadata": {},
   "outputs": [],
   "source": [
    "import numpy as np \n",
    "import tensorflow as tf \n",
    "from tensorflow.keras.datasets import imdb \n",
    "from tensorflow.keras.preprocessing import sequence \n",
    "from tensorflow.keras.models import load_model\n"
   ]
  },
  {
   "cell_type": "code",
   "execution_count": 15,
   "metadata": {},
   "outputs": [],
   "source": [
    "word_index=imdb.get_word_index()\n",
    "reverse_word_index={value:key for key,value in word_index.items()}"
   ]
  },
  {
   "cell_type": "code",
   "execution_count": 16,
   "metadata": {},
   "outputs": [
    {
     "name": "stderr",
     "output_type": "stream",
     "text": [
      "WARNING:absl:Compiled the loaded model, but the compiled metrics have yet to be built. `model.compile_metrics` will be empty until you train or evaluate the model.\n"
     ]
    }
   ],
   "source": [
    "model= load_model('SimpleRNN.h5')"
   ]
  },
  {
   "cell_type": "code",
   "execution_count": 17,
   "metadata": {},
   "outputs": [
    {
     "data": {
      "text/html": [
       "<pre style=\"white-space:pre;overflow-x:auto;line-height:normal;font-family:Menlo,'DejaVu Sans Mono',consolas,'Courier New',monospace\"><span style=\"font-weight: bold\">Model: \"sequential\"</span>\n",
       "</pre>\n"
      ],
      "text/plain": [
       "\u001b[1mModel: \"sequential\"\u001b[0m\n"
      ]
     },
     "metadata": {},
     "output_type": "display_data"
    },
    {
     "data": {
      "text/html": [
       "<pre style=\"white-space:pre;overflow-x:auto;line-height:normal;font-family:Menlo,'DejaVu Sans Mono',consolas,'Courier New',monospace\">┏━━━━━━━━━━━━━━━━━━━━━━━━━━━━━━━━━┳━━━━━━━━━━━━━━━━━━━━━━━━┳━━━━━━━━━━━━━━━┓\n",
       "┃<span style=\"font-weight: bold\"> Layer (type)                    </span>┃<span style=\"font-weight: bold\"> Output Shape           </span>┃<span style=\"font-weight: bold\">       Param # </span>┃\n",
       "┡━━━━━━━━━━━━━━━━━━━━━━━━━━━━━━━━━╇━━━━━━━━━━━━━━━━━━━━━━━━╇━━━━━━━━━━━━━━━┩\n",
       "│ embedding (<span style=\"color: #0087ff; text-decoration-color: #0087ff\">Embedding</span>)           │ (<span style=\"color: #00af00; text-decoration-color: #00af00\">32</span>, <span style=\"color: #00af00; text-decoration-color: #00af00\">500</span>, <span style=\"color: #00af00; text-decoration-color: #00af00\">128</span>)         │     <span style=\"color: #00af00; text-decoration-color: #00af00\">1,280,000</span> │\n",
       "├─────────────────────────────────┼────────────────────────┼───────────────┤\n",
       "│ simple_rnn (<span style=\"color: #0087ff; text-decoration-color: #0087ff\">SimpleRNN</span>)          │ (<span style=\"color: #00af00; text-decoration-color: #00af00\">32</span>, <span style=\"color: #00af00; text-decoration-color: #00af00\">128</span>)              │        <span style=\"color: #00af00; text-decoration-color: #00af00\">32,896</span> │\n",
       "├─────────────────────────────────┼────────────────────────┼───────────────┤\n",
       "│ dense (<span style=\"color: #0087ff; text-decoration-color: #0087ff\">Dense</span>)                   │ (<span style=\"color: #00af00; text-decoration-color: #00af00\">32</span>, <span style=\"color: #00af00; text-decoration-color: #00af00\">1</span>)                │           <span style=\"color: #00af00; text-decoration-color: #00af00\">129</span> │\n",
       "└─────────────────────────────────┴────────────────────────┴───────────────┘\n",
       "</pre>\n"
      ],
      "text/plain": [
       "┏━━━━━━━━━━━━━━━━━━━━━━━━━━━━━━━━━┳━━━━━━━━━━━━━━━━━━━━━━━━┳━━━━━━━━━━━━━━━┓\n",
       "┃\u001b[1m \u001b[0m\u001b[1mLayer (type)                   \u001b[0m\u001b[1m \u001b[0m┃\u001b[1m \u001b[0m\u001b[1mOutput Shape          \u001b[0m\u001b[1m \u001b[0m┃\u001b[1m \u001b[0m\u001b[1m      Param #\u001b[0m\u001b[1m \u001b[0m┃\n",
       "┡━━━━━━━━━━━━━━━━━━━━━━━━━━━━━━━━━╇━━━━━━━━━━━━━━━━━━━━━━━━╇━━━━━━━━━━━━━━━┩\n",
       "│ embedding (\u001b[38;5;33mEmbedding\u001b[0m)           │ (\u001b[38;5;34m32\u001b[0m, \u001b[38;5;34m500\u001b[0m, \u001b[38;5;34m128\u001b[0m)         │     \u001b[38;5;34m1,280,000\u001b[0m │\n",
       "├─────────────────────────────────┼────────────────────────┼───────────────┤\n",
       "│ simple_rnn (\u001b[38;5;33mSimpleRNN\u001b[0m)          │ (\u001b[38;5;34m32\u001b[0m, \u001b[38;5;34m128\u001b[0m)              │        \u001b[38;5;34m32,896\u001b[0m │\n",
       "├─────────────────────────────────┼────────────────────────┼───────────────┤\n",
       "│ dense (\u001b[38;5;33mDense\u001b[0m)                   │ (\u001b[38;5;34m32\u001b[0m, \u001b[38;5;34m1\u001b[0m)                │           \u001b[38;5;34m129\u001b[0m │\n",
       "└─────────────────────────────────┴────────────────────────┴───────────────┘\n"
      ]
     },
     "metadata": {},
     "output_type": "display_data"
    },
    {
     "data": {
      "text/html": [
       "<pre style=\"white-space:pre;overflow-x:auto;line-height:normal;font-family:Menlo,'DejaVu Sans Mono',consolas,'Courier New',monospace\"><span style=\"font-weight: bold\"> Total params: </span><span style=\"color: #00af00; text-decoration-color: #00af00\">1,313,027</span> (5.01 MB)\n",
       "</pre>\n"
      ],
      "text/plain": [
       "\u001b[1m Total params: \u001b[0m\u001b[38;5;34m1,313,027\u001b[0m (5.01 MB)\n"
      ]
     },
     "metadata": {},
     "output_type": "display_data"
    },
    {
     "data": {
      "text/html": [
       "<pre style=\"white-space:pre;overflow-x:auto;line-height:normal;font-family:Menlo,'DejaVu Sans Mono',consolas,'Courier New',monospace\"><span style=\"font-weight: bold\"> Trainable params: </span><span style=\"color: #00af00; text-decoration-color: #00af00\">1,313,025</span> (5.01 MB)\n",
       "</pre>\n"
      ],
      "text/plain": [
       "\u001b[1m Trainable params: \u001b[0m\u001b[38;5;34m1,313,025\u001b[0m (5.01 MB)\n"
      ]
     },
     "metadata": {},
     "output_type": "display_data"
    },
    {
     "data": {
      "text/html": [
       "<pre style=\"white-space:pre;overflow-x:auto;line-height:normal;font-family:Menlo,'DejaVu Sans Mono',consolas,'Courier New',monospace\"><span style=\"font-weight: bold\"> Non-trainable params: </span><span style=\"color: #00af00; text-decoration-color: #00af00\">0</span> (0.00 B)\n",
       "</pre>\n"
      ],
      "text/plain": [
       "\u001b[1m Non-trainable params: \u001b[0m\u001b[38;5;34m0\u001b[0m (0.00 B)\n"
      ]
     },
     "metadata": {},
     "output_type": "display_data"
    },
    {
     "data": {
      "text/html": [
       "<pre style=\"white-space:pre;overflow-x:auto;line-height:normal;font-family:Menlo,'DejaVu Sans Mono',consolas,'Courier New',monospace\"><span style=\"font-weight: bold\"> Optimizer params: </span><span style=\"color: #00af00; text-decoration-color: #00af00\">2</span> (12.00 B)\n",
       "</pre>\n"
      ],
      "text/plain": [
       "\u001b[1m Optimizer params: \u001b[0m\u001b[38;5;34m2\u001b[0m (12.00 B)\n"
      ]
     },
     "metadata": {},
     "output_type": "display_data"
    }
   ],
   "source": [
    "model.summary()"
   ]
  },
  {
   "cell_type": "code",
   "execution_count": 18,
   "metadata": {},
   "outputs": [
    {
     "data": {
      "text/plain": [
       "[array([[ 0.7096352 ,  0.6189575 , -0.94291294, ...,  0.7202443 ,\n",
       "          0.94693375, -0.77023333],\n",
       "        [-0.01366485, -0.01256255, -0.05952054, ..., -0.02359837,\n",
       "          0.07569752, -0.07752379],\n",
       "        [-0.00260401, -0.01176563, -0.12475985, ...,  0.15047394,\n",
       "         -0.0608873 ,  0.21780986],\n",
       "        ...,\n",
       "        [ 0.06788834,  0.05027965, -0.08892781, ..., -0.02217578,\n",
       "         -0.02906855,  0.04583222],\n",
       "        [ 0.11041503,  0.04984866,  0.001758  , ...,  0.05021598,\n",
       "         -0.09155925,  0.0543412 ],\n",
       "        [-0.00124218, -0.01435613,  0.00554357, ..., -0.07549819,\n",
       "         -0.07145789,  0.05894598]], dtype=float32),\n",
       " array([[-0.01994296,  0.04344441, -0.09005943, ...,  0.10846279,\n",
       "          0.03253973, -0.09656703],\n",
       "        [ 0.09184895,  0.18868628,  0.06024073, ...,  0.06284177,\n",
       "          0.10550544,  0.19333635],\n",
       "        [-0.04423992, -0.00884313, -0.04930387, ...,  0.08846673,\n",
       "         -0.01872786, -0.19639125],\n",
       "        ...,\n",
       "        [-0.039175  ,  0.15007609,  0.04623989, ...,  0.06099947,\n",
       "         -0.06034638,  0.1105872 ],\n",
       "        [ 0.04952143,  0.124848  ,  0.00424669, ...,  0.18297155,\n",
       "         -0.04802215, -0.05142277],\n",
       "        [ 0.1342952 ,  0.1449829 ,  0.12097217, ..., -0.10672954,\n",
       "         -0.1514074 ,  0.07155578]], dtype=float32),\n",
       " array([[-0.08596516,  0.04149105,  0.04922545, ...,  0.03304403,\n",
       "          0.0253345 , -0.14432128],\n",
       "        [-0.02392757,  0.00866118, -0.05879919, ..., -0.03808287,\n",
       "         -0.04851359,  0.12367481],\n",
       "        [-0.04271678, -0.19055693,  0.01291814, ..., -0.09919255,\n",
       "         -0.04437843,  0.22992782],\n",
       "        ...,\n",
       "        [-0.03410523,  0.07881307,  0.23560867, ..., -0.18007252,\n",
       "         -0.0970984 ,  0.06407545],\n",
       "        [ 0.11896838,  0.11209234, -0.03189509, ...,  0.02998536,\n",
       "          0.09652667, -0.04232804],\n",
       "        [-0.06621041, -0.15627682, -0.03377568, ...,  0.20002231,\n",
       "          0.02468544,  0.07534706]], dtype=float32),\n",
       " array([-4.76642475e-02,  3.01872417e-02, -2.76783574e-02,  4.72016586e-03,\n",
       "         9.26009715e-02, -2.61788652e-03, -9.21751559e-03,  2.34587938e-02,\n",
       "        -2.85779871e-02, -2.63972245e-02, -6.46829465e-03, -1.35976663e-02,\n",
       "        -1.03227440e-02, -1.04232039e-02, -1.39600961e-02,  3.49626003e-04,\n",
       "        -8.35468248e-03, -7.05883885e-03, -2.73286682e-02,  5.09205181e-03,\n",
       "        -1.70047604e-03,  7.90659152e-03, -1.29755316e-02,  4.76123625e-03,\n",
       "        -2.17280220e-04,  3.19486344e-03, -4.04797792e-02, -9.57300235e-03,\n",
       "         1.66176725e-03, -1.26932636e-02, -3.23574245e-02, -5.58617488e-02,\n",
       "        -6.36956282e-03,  1.65596977e-02, -2.90687894e-03, -1.07635418e-02,\n",
       "        -1.58849116e-02, -6.15097582e-04, -1.63703412e-02,  7.89486896e-03,\n",
       "         3.94064784e-02,  1.15579451e-02,  4.27937659e-04, -2.75888611e-02,\n",
       "        -1.34954108e-02, -1.42067680e-02, -6.49304269e-03, -1.53727792e-02,\n",
       "        -3.13126966e-02,  6.37387065e-03, -2.10830513e-02, -4.42297198e-03,\n",
       "        -1.69447474e-02, -1.76471099e-02, -8.32078513e-03,  8.43951106e-03,\n",
       "         1.97350588e-02, -7.73833692e-03, -1.51936179e-02, -3.26576689e-03,\n",
       "        -2.63766516e-02, -1.96876768e-02, -5.60886925e-03, -9.64164268e-03,\n",
       "        -4.03800281e-03, -7.81417917e-03, -1.20881498e-02, -3.00003728e-03,\n",
       "         1.09837828e-02, -1.39874825e-03,  2.38890667e-02, -3.40101914e-03,\n",
       "        -2.28752159e-02, -1.82327610e-02, -1.54884327e-02, -4.96146129e-03,\n",
       "        -3.06178685e-02,  3.60122160e-03, -4.75821495e-02,  4.03566519e-03,\n",
       "         2.04840954e-02, -1.24663273e-02, -4.16353485e-03, -7.50943506e-03,\n",
       "        -2.40648352e-02, -2.12355629e-02, -2.86768321e-02, -1.39437346e-02,\n",
       "        -1.11802190e-04, -5.92798206e-05,  3.11783352e-03,  5.55106811e-03,\n",
       "         1.78059395e-02, -1.74445491e-02, -1.21514322e-02, -1.93830463e-03,\n",
       "         1.05014779e-02,  1.36111751e-02, -1.10794771e-02,  1.73508981e-03,\n",
       "         4.28623054e-03,  4.61963564e-03, -6.20258227e-03, -1.34583740e-02,\n",
       "         7.91106094e-03, -1.48149412e-02,  2.23920885e-02, -2.79910006e-02,\n",
       "        -7.12213619e-03,  1.17347063e-02, -2.30728704e-02, -2.19653137e-02,\n",
       "        -1.11610889e-02,  4.01805155e-02, -3.90464300e-03,  1.31314555e-02,\n",
       "         1.28988773e-02, -5.68900781e-04, -1.34534261e-03,  2.60487222e-03,\n",
       "        -1.59921765e-03, -1.51702762e-02, -2.26159245e-02, -3.17310356e-02,\n",
       "         9.67338216e-03, -2.53746323e-02, -4.24374118e-02,  3.69213931e-02],\n",
       "       dtype=float32),\n",
       " array([[ 0.12784307],\n",
       "        [-0.44124013],\n",
       "        [-0.11385445],\n",
       "        [ 0.23714885],\n",
       "        [ 0.09018189],\n",
       "        [ 0.14320652],\n",
       "        [-0.21065922],\n",
       "        [-0.19076021],\n",
       "        [-0.04806727],\n",
       "        [ 0.04315785],\n",
       "        [ 0.19607493],\n",
       "        [-0.0714564 ],\n",
       "        [-0.14696282],\n",
       "        [ 0.12481578],\n",
       "        [-0.08618655],\n",
       "        [ 0.1216279 ],\n",
       "        [-0.15081745],\n",
       "        [ 0.08024134],\n",
       "        [-0.03286312],\n",
       "        [ 0.20815259],\n",
       "        [-0.168342  ],\n",
       "        [-0.07327557],\n",
       "        [ 0.12140056],\n",
       "        [ 0.12542646],\n",
       "        [-0.15235026],\n",
       "        [-0.04297488],\n",
       "        [-0.2155875 ],\n",
       "        [-0.16972345],\n",
       "        [ 0.08340204],\n",
       "        [-0.19098832],\n",
       "        [-0.20501919],\n",
       "        [ 0.20543268],\n",
       "        [ 0.24621093],\n",
       "        [ 0.01046985],\n",
       "        [ 0.01983135],\n",
       "        [ 0.16442908],\n",
       "        [ 0.01662592],\n",
       "        [ 0.1713696 ],\n",
       "        [-0.07329071],\n",
       "        [ 0.18273155],\n",
       "        [ 0.25960848],\n",
       "        [ 0.3647045 ],\n",
       "        [-0.06809583],\n",
       "        [-0.11625788],\n",
       "        [-0.06216182],\n",
       "        [ 0.18981954],\n",
       "        [-0.13322593],\n",
       "        [ 0.1865832 ],\n",
       "        [ 0.10050333],\n",
       "        [ 0.24571407],\n",
       "        [-0.11057306],\n",
       "        [-0.13231342],\n",
       "        [-0.11842526],\n",
       "        [-0.15637745],\n",
       "        [-0.03613598],\n",
       "        [ 0.01202227],\n",
       "        [-0.57363623],\n",
       "        [-0.00488566],\n",
       "        [-0.13524917],\n",
       "        [ 0.18441091],\n",
       "        [ 0.03876429],\n",
       "        [-0.21514776],\n",
       "        [-0.12807018],\n",
       "        [-0.14324708],\n",
       "        [ 0.27802438],\n",
       "        [ 0.2240763 ],\n",
       "        [ 0.2288667 ],\n",
       "        [-0.22502631],\n",
       "        [ 0.21295251],\n",
       "        [-0.16392563],\n",
       "        [-0.17919822],\n",
       "        [-0.20377761],\n",
       "        [ 0.22436078],\n",
       "        [-0.15892267],\n",
       "        [ 0.24390097],\n",
       "        [ 0.16788346],\n",
       "        [-0.11711904],\n",
       "        [ 0.04644898],\n",
       "        [-0.22831623],\n",
       "        [ 0.16475892],\n",
       "        [-0.3512812 ],\n",
       "        [-0.15057738],\n",
       "        [ 0.10981553],\n",
       "        [ 0.19505888],\n",
       "        [ 0.11204027],\n",
       "        [-0.14017907],\n",
       "        [-0.09239421],\n",
       "        [-0.04873789],\n",
       "        [ 0.08127744],\n",
       "        [-0.12558678],\n",
       "        [-0.14263055],\n",
       "        [ 0.1375109 ],\n",
       "        [-0.20055845],\n",
       "        [ 0.0362109 ],\n",
       "        [ 0.19639583],\n",
       "        [ 0.10049207],\n",
       "        [ 0.09136803],\n",
       "        [ 0.18821988],\n",
       "        [ 0.21951337],\n",
       "        [ 0.04149285],\n",
       "        [-0.10655773],\n",
       "        [-0.21792278],\n",
       "        [-0.4534272 ],\n",
       "        [-0.08276773],\n",
       "        [ 0.23705843],\n",
       "        [-0.11628314],\n",
       "        [ 0.20505647],\n",
       "        [-0.11985833],\n",
       "        [ 0.110184  ],\n",
       "        [-0.32625565],\n",
       "        [ 0.06040028],\n",
       "        [ 0.17388937],\n",
       "        [-0.16839719],\n",
       "        [-0.14523743],\n",
       "        [-0.08068498],\n",
       "        [-0.06815221],\n",
       "        [ 0.5133388 ],\n",
       "        [-0.4625664 ],\n",
       "        [ 0.28551465],\n",
       "        [ 0.2134515 ],\n",
       "        [ 0.20605862],\n",
       "        [ 0.19440548],\n",
       "        [-0.21272165],\n",
       "        [-0.1235848 ],\n",
       "        [-0.14082065],\n",
       "        [-0.22060482],\n",
       "        [ 0.05622463],\n",
       "        [-0.00301144]], dtype=float32),\n",
       " array([-0.17584372], dtype=float32)]"
      ]
     },
     "execution_count": 18,
     "metadata": {},
     "output_type": "execute_result"
    }
   ],
   "source": [
    "model.get_weights()"
   ]
  },
  {
   "cell_type": "code",
   "execution_count": 19,
   "metadata": {},
   "outputs": [],
   "source": [
    "# Step 2: Helper Functions\n",
    "# Function to decode reviews\n",
    "def decode_review(encoded_review):\n",
    "    return ' '.join([reverse_word_index.get(i-3,'?') for i in encoded_review])\n",
    "\n",
    "#Function to preprocessing the user input\n",
    "def preprocess_text(text):\n",
    "    words=text.lower().split()\n",
    "    encoded_review=[word_index.get(word,2)+3 for word in words]\n",
    "    padded_review=sequence.pad_sequences([encoded_review],maxlen=500)\n",
    "    return padded_review"
   ]
  },
  {
   "cell_type": "code",
   "execution_count": 20,
   "metadata": {},
   "outputs": [],
   "source": [
    "### Prediction Function\n",
    "def predict_sentiment(review):\n",
    "    preprocessed_input=preprocess_text(review)\n",
    "    prediction=model.predict(preprocessed_input)\n",
    "    sentiment='Positive' if prediction[0][0]>0.5 else 'Negative'\n",
    "    return sentiment,prediction[0][0]"
   ]
  },
  {
   "cell_type": "code",
   "execution_count": 21,
   "metadata": {},
   "outputs": [
    {
     "name": "stdout",
     "output_type": "stream",
     "text": [
      "\u001b[1m1/1\u001b[0m \u001b[32m━━━━━━━━━━━━━━━━━━━━\u001b[0m\u001b[37m\u001b[0m \u001b[1m0s\u001b[0m 67ms/step\n",
      "Review: This movie was fantastic! The acting was great and the plot was thrilling.\n",
      "Sentiment: Positive\n",
      "Prediction Score: 0.5497725605964661\n"
     ]
    }
   ],
   "source": [
    "#step 4: User Input and Prediction\n",
    "# Example review for prediction\n",
    "\n",
    "example_review='This movie was fantastic! The acting was great and the plot was thrilling.'\n",
    "sentiment,score=predict_sentiment(example_review)\n",
    "print(f'Review: {example_review}')\n",
    "print(f'Sentiment: {sentiment}')\n",
    "print(f'Prediction Score: {score}')"
   ]
  },
  {
   "cell_type": "code",
   "execution_count": null,
   "metadata": {},
   "outputs": [],
   "source": []
  }
 ],
 "metadata": {
  "kernelspec": {
   "display_name": "ANN_env",
   "language": "python",
   "name": "python3"
  },
  "language_info": {
   "codemirror_mode": {
    "name": "ipython",
    "version": 3
   },
   "file_extension": ".py",
   "mimetype": "text/x-python",
   "name": "python",
   "nbconvert_exporter": "python",
   "pygments_lexer": "ipython3",
   "version": "3.12.2"
  }
 },
 "nbformat": 4,
 "nbformat_minor": 2
}
