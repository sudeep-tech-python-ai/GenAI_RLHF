{
 "cells": [
  {
   "cell_type": "code",
   "execution_count": 4,
   "id": "758a804a-7c72-4a7d-b2ea-7bfadf5289ce",
   "metadata": {},
   "outputs": [],
   "source": [
    "import pandas as pd\n",
    "messages=pd.read_csv('cleaned_span.csv')"
   ]
  },
  {
   "cell_type": "code",
   "execution_count": 6,
   "id": "121b903c-7374-444e-95ec-765a9063e253",
   "metadata": {},
   "outputs": [
    {
     "data": {
      "text/html": [
       "<div>\n",
       "<style scoped>\n",
       "    .dataframe tbody tr th:only-of-type {\n",
       "        vertical-align: middle;\n",
       "    }\n",
       "\n",
       "    .dataframe tbody tr th {\n",
       "        vertical-align: top;\n",
       "    }\n",
       "\n",
       "    .dataframe thead th {\n",
       "        text-align: right;\n",
       "    }\n",
       "</style>\n",
       "<table border=\"1\" class=\"dataframe\">\n",
       "  <thead>\n",
       "    <tr style=\"text-align: right;\">\n",
       "      <th></th>\n",
       "      <th>labels</th>\n",
       "      <th>message</th>\n",
       "    </tr>\n",
       "  </thead>\n",
       "  <tbody>\n",
       "    <tr>\n",
       "      <th>0</th>\n",
       "      <td>ham</td>\n",
       "      <td>Go until jurong point, crazy.. Available only ...</td>\n",
       "    </tr>\n",
       "    <tr>\n",
       "      <th>1</th>\n",
       "      <td>ham</td>\n",
       "      <td>Ok lar... Joking wif u oni...</td>\n",
       "    </tr>\n",
       "    <tr>\n",
       "      <th>2</th>\n",
       "      <td>spam</td>\n",
       "      <td>Free entry in 2 a wkly comp to win FA Cup fina...</td>\n",
       "    </tr>\n",
       "    <tr>\n",
       "      <th>3</th>\n",
       "      <td>ham</td>\n",
       "      <td>U dun say so early hor... U c already then say...</td>\n",
       "    </tr>\n",
       "    <tr>\n",
       "      <th>4</th>\n",
       "      <td>ham</td>\n",
       "      <td>Nah I don't think he goes to usf, he lives aro...</td>\n",
       "    </tr>\n",
       "    <tr>\n",
       "      <th>...</th>\n",
       "      <td>...</td>\n",
       "      <td>...</td>\n",
       "    </tr>\n",
       "    <tr>\n",
       "      <th>5567</th>\n",
       "      <td>spam</td>\n",
       "      <td>This is the 2nd time we have tried 2 contact u...</td>\n",
       "    </tr>\n",
       "    <tr>\n",
       "      <th>5568</th>\n",
       "      <td>ham</td>\n",
       "      <td>Will Ì_ b going to esplanade fr home?</td>\n",
       "    </tr>\n",
       "    <tr>\n",
       "      <th>5569</th>\n",
       "      <td>ham</td>\n",
       "      <td>Pity, * was in mood for that. So...any other s...</td>\n",
       "    </tr>\n",
       "    <tr>\n",
       "      <th>5570</th>\n",
       "      <td>ham</td>\n",
       "      <td>The guy did some bitching but I acted like i'd...</td>\n",
       "    </tr>\n",
       "    <tr>\n",
       "      <th>5571</th>\n",
       "      <td>ham</td>\n",
       "      <td>Rofl. Its true to its name</td>\n",
       "    </tr>\n",
       "  </tbody>\n",
       "</table>\n",
       "<p>5572 rows × 2 columns</p>\n",
       "</div>"
      ],
      "text/plain": [
       "     labels                                            message\n",
       "0       ham  Go until jurong point, crazy.. Available only ...\n",
       "1       ham                      Ok lar... Joking wif u oni...\n",
       "2      spam  Free entry in 2 a wkly comp to win FA Cup fina...\n",
       "3       ham  U dun say so early hor... U c already then say...\n",
       "4       ham  Nah I don't think he goes to usf, he lives aro...\n",
       "...     ...                                                ...\n",
       "5567   spam  This is the 2nd time we have tried 2 contact u...\n",
       "5568    ham              Will Ì_ b going to esplanade fr home?\n",
       "5569    ham  Pity, * was in mood for that. So...any other s...\n",
       "5570    ham  The guy did some bitching but I acted like i'd...\n",
       "5571    ham                         Rofl. Its true to its name\n",
       "\n",
       "[5572 rows x 2 columns]"
      ]
     },
     "execution_count": 6,
     "metadata": {},
     "output_type": "execute_result"
    }
   ],
   "source": [
    "messages\n"
   ]
  },
  {
   "cell_type": "code",
   "execution_count": 8,
   "id": "530c52db-5a73-432f-a4ae-bbd30292c3cc",
   "metadata": {},
   "outputs": [
    {
     "name": "stderr",
     "output_type": "stream",
     "text": [
      "[nltk_data] Downloading package stopwords to\n",
      "[nltk_data]     /Users/shindesudeep/nltk_data...\n",
      "[nltk_data]   Package stopwords is already up-to-date!\n"
     ]
    },
    {
     "data": {
      "text/plain": [
       "True"
      ]
     },
     "execution_count": 8,
     "metadata": {},
     "output_type": "execute_result"
    }
   ],
   "source": [
    "import re\n",
    "import nltk\n",
    "nltk.download('stopwords')"
   ]
  },
  {
   "cell_type": "code",
   "execution_count": 20,
   "id": "ffcc2ecc-20c2-4982-bd6b-42c53ce5b61d",
   "metadata": {},
   "outputs": [],
   "source": [
    "from nltk.corpus import stopwords\n",
    "from nltk.stem import WordNetLemmatizer\n",
    "wordnetlemmatize=WordNetLemmatizer()"
   ]
  },
  {
   "cell_type": "code",
   "execution_count": 22,
   "id": "128ccb97-7bc2-44ac-bc41-5741fbc062fe",
   "metadata": {},
   "outputs": [],
   "source": [
    "corpus=[]\n",
    "for i in range(0,len(messages)):\n",
    "    review=re.sub('[^a-zA-Z]',' ',messages['message'][i])\n",
    "    review=review.lower()\n",
    "    review=review.split()\n",
    "    review=[wordnetlemmatize.lemmatize(word) for word in review if not word in stopwords.words('english')]\n",
    "    review=' '.join(review)\n",
    "    corpus.append(review)"
   ]
  },
  {
   "cell_type": "code",
   "execution_count": 26,
   "id": "d3b50698-a7bb-433d-8cbc-ceed20927a64",
   "metadata": {},
   "outputs": [],
   "source": [
    "from sklearn.feature_extraction.text import TfidfVectorizer\n",
    "tfidf=TfidfVectorizer(max_features=100)\n",
    "X=tfidf.fit_transform(corpus).toarray()"
   ]
  },
  {
   "cell_type": "code",
   "execution_count": 28,
   "id": "699eaf78-1784-4b15-9ba8-b4b0c8599cfc",
   "metadata": {},
   "outputs": [
    {
     "data": {
      "text/plain": [
       "array([[0., 0., 0., ..., 0., 0., 0.],\n",
       "       [0., 0., 0., ..., 0., 0., 0.],\n",
       "       [0., 0., 0., ..., 0., 0., 0.],\n",
       "       ...,\n",
       "       [0., 0., 0., ..., 0., 0., 0.],\n",
       "       [0., 0., 0., ..., 0., 0., 0.],\n",
       "       [0., 0., 0., ..., 0., 0., 0.]])"
      ]
     },
     "execution_count": 28,
     "metadata": {},
     "output_type": "execute_result"
    }
   ],
   "source": [
    "X"
   ]
  },
  {
   "cell_type": "markdown",
   "id": "dc4408f8-1130-42aa-9c1e-b824278c26b9",
   "metadata": {},
   "source": [
    "## N-Grams"
   ]
  },
  {
   "cell_type": "code",
   "execution_count": 35,
   "id": "c58b9df6-81e8-440c-9916-98a965805281",
   "metadata": {},
   "outputs": [],
   "source": [
    "tfidf=TfidfVectorizer(max_features=100,ngram_range=(2,2))\n",
    "X=tfidf.fit_transform(corpus).toarray()"
   ]
  },
  {
   "cell_type": "code",
   "execution_count": 39,
   "id": "247e3d3c-2c53-41a1-acb3-b6bdeb1bf61d",
   "metadata": {},
   "outputs": [
    {
     "data": {
      "text/plain": [
       "{'free entry': 31,\n",
       " 'claim call': 15,\n",
       " 'call claim': 3,\n",
       " 'free call': 30,\n",
       " 'chance win': 14,\n",
       " 'txt word': 88,\n",
       " 'let know': 51,\n",
       " 'please call': 65,\n",
       " 'lt gt': 55,\n",
       " 'want go': 97,\n",
       " 'like lt': 52,\n",
       " 'sorry call': 79,\n",
       " 'call later': 8,\n",
       " 'ur awarded': 90,\n",
       " 'hi hi': 44,\n",
       " 'call customer': 4,\n",
       " 'customer service': 22,\n",
       " 'cash prize': 13,\n",
       " 'trying contact': 85,\n",
       " 'draw show': 27,\n",
       " 'show prize': 77,\n",
       " 'prize guaranteed': 71,\n",
       " 'guaranteed call': 40,\n",
       " 'valid hr': 95,\n",
       " 'selected receive': 74,\n",
       " 'private account': 69,\n",
       " 'account statement': 0,\n",
       " 'statement show': 80,\n",
       " 'call identifier': 5,\n",
       " 'identifier code': 47,\n",
       " 'code expires': 19,\n",
       " 'urgent mobile': 94,\n",
       " 'call landline': 7,\n",
       " 'wat time': 98,\n",
       " 'ur mob': 93,\n",
       " 'gud ni': 41,\n",
       " 'new year': 60,\n",
       " 'send stop': 76,\n",
       " 'co uk': 18,\n",
       " 'nice day': 61,\n",
       " 'lt decimal': 54,\n",
       " 'decimal gt': 24,\n",
       " 'txt nokia': 86,\n",
       " 'good morning': 35,\n",
       " 'ur friend': 92,\n",
       " 'good night': 36,\n",
       " 'reply call': 73,\n",
       " 'po box': 67,\n",
       " 'last night': 50,\n",
       " 'camera phone': 12,\n",
       " 'pick phone': 64,\n",
       " 'pls send': 66,\n",
       " 'send message': 75,\n",
       " 'great day': 37,\n",
       " 'ur cash': 91,\n",
       " 'suite land': 81,\n",
       " 'land row': 49,\n",
       " 'good afternoon': 34,\n",
       " 'take care': 82,\n",
       " 'double min': 26,\n",
       " 'call mobileupd': 9,\n",
       " 'call optout': 10,\n",
       " 'gt min': 39,\n",
       " 'txt stop': 87,\n",
       " 'dating service': 23,\n",
       " 'pobox wq': 68,\n",
       " 'mobile number': 56,\n",
       " 'call land': 6,\n",
       " 'land line': 48,\n",
       " 'line claim': 53,\n",
       " 'claim valid': 17,\n",
       " 'gt lt': 38,\n",
       " 'hope good': 46,\n",
       " 'free text': 32,\n",
       " 'holiday cash': 45,\n",
       " 'prize claim': 70,\n",
       " 'nd attempt': 58,\n",
       " 'attempt contact': 1,\n",
       " 'claim ur': 16,\n",
       " 'show un': 78,\n",
       " 'un redeemed': 89,\n",
       " 'redeemed point': 72,\n",
       " 'happy birthday': 42,\n",
       " 'ok lor': 63,\n",
       " 'want come': 96,\n",
       " 'every week': 28,\n",
       " 'come home': 21,\n",
       " 'new nokia': 59,\n",
       " 'happy new': 43,\n",
       " 'every wk': 29,\n",
       " 'national rate': 57,\n",
       " 'nokia tone': 62,\n",
       " 'tone ur': 84,\n",
       " 'week txt': 99,\n",
       " 'tell ur': 83,\n",
       " 'gift voucher': 33,\n",
       " 'await collection': 2,\n",
       " 'dont know': 25,\n",
       " 'come back': 20,\n",
       " 'call per': 11}"
      ]
     },
     "execution_count": 39,
     "metadata": {},
     "output_type": "execute_result"
    }
   ],
   "source": [
    "tfidf.vocabulary_"
   ]
  },
  {
   "cell_type": "code",
   "execution_count": 43,
   "id": "a0be5cda-5004-4bc1-b268-82948bf99011",
   "metadata": {},
   "outputs": [
    {
     "data": {
      "text/plain": [
       "array([[0., 0., 0., ..., 0., 0., 0.],\n",
       "       [0., 0., 0., ..., 0., 0., 0.],\n",
       "       [0., 0., 0., ..., 0., 0., 0.],\n",
       "       ...,\n",
       "       [0., 0., 0., ..., 0., 0., 0.],\n",
       "       [0., 0., 0., ..., 0., 0., 0.],\n",
       "       [0., 0., 0., ..., 0., 0., 0.]])"
      ]
     },
     "execution_count": 43,
     "metadata": {},
     "output_type": "execute_result"
    }
   ],
   "source": [
    "X"
   ]
  },
  {
   "cell_type": "code",
   "execution_count": null,
   "id": "51472d8a-fb05-467d-a13c-566e332d971c",
   "metadata": {},
   "outputs": [],
   "source": []
  }
 ],
 "metadata": {
  "kernelspec": {
   "display_name": "Python 3 (ipykernel)",
   "language": "python",
   "name": "python3"
  },
  "language_info": {
   "codemirror_mode": {
    "name": "ipython",
    "version": 3
   },
   "file_extension": ".py",
   "mimetype": "text/x-python",
   "name": "python",
   "nbconvert_exporter": "python",
   "pygments_lexer": "ipython3",
   "version": "3.12.2"
  }
 },
 "nbformat": 4,
 "nbformat_minor": 5
}
